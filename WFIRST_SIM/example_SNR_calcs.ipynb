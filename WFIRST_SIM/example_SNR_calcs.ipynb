{
 "cells": [
  {
   "cell_type": "code",
   "execution_count": null,
   "metadata": {
    "collapsed": true,
    "deletable": true,
    "editable": true
   },
   "outputs": [],
   "source": [
    "%matplotlib inline\n",
    "%config InlineBackend.figure_format='retina'\n",
    "import matplotlib.pyplot as plt\n",
    "import numpy as np\n",
    "from scipy.interpolate import interp1d\n",
    "from orbit_class import Orbit\n",
    "import misc_utils as mu   \n",
    "import ifs_noise_model as snr_ifs\n",
    "import imaging_noise_model as snr_im\n",
    "import juneper_model as hpm  \n",
    "import coolTLUSTY_model as cpm\n",
    "import simulate_data as simdata"
   ]
  },
  {
   "cell_type": "markdown",
   "metadata": {
    "deletable": true,
    "editable": true
   },
   "source": [
    "Initiate dictionary with planet-star parameters and coronagraph/telescope/detector parameters"
   ]
  },
  {
   "cell_type": "code",
   "execution_count": null,
   "metadata": {
    "collapsed": true,
    "deletable": true,
    "editable": true
   },
   "outputs": [],
   "source": [
    "params = {}                    # create a dictionary for your simulation's parameters\n",
    "params.update({'d_obs':10.0})  # distance to the observer in parsecs\n",
    "params.update({'Mstar':5.0})   # absolute stellar V-band magnitude\n",
    "params.update({'Nez':1.0})     # exozodi level\n",
    "stellartype = 'g0v'            # stellar type\n",
    "stellar_mass = 1.0             # stellar mass in units of solar mass \n",
    "                               # this is only used in orbit object, not really relevant for SNR calculations\n",
    "stellar_spec = 'AuxiliaryData/'+stellartype+'.dat' # imports Hubble \n",
    "ref_wl, ref_flambda = np.loadtxt(stellar_spec, unpack=True, usecols=(0,1))\n",
    "fstar_lambda = interp1d(ref_wl,ref_flambda)  # specific flux density W / m^2 / micron, for zero mag star\n",
    "params.update({'fstar_lambda':fstar_lambda}) # a function which returns \n",
    "                                             # specific flux density for any wavelength\n",
    "params.update({'rp':1.0})      # planet radius in Jupiter radii\n",
    "params.update({'chromo':0.75,'meth':0.25}) # short wavelength (chromophore) and long wavelength (methane)\n",
    "                                           # weightings for linear combination of Jupiter and Neptune \n",
    "params.update({'Ag':hpm.juneper_Agfunc(params['chromo'],params['meth'])}) \n",
    "a = 3.8            # semimajor axis (in au)\n",
    "ecc = 10.0**-8.0   # eccentricity\n",
    "inc = 90.0         # inclination (degrees)\n",
    "ome = 90.0         # longitude of ascending node (degrees)\n",
    "tp = 0.0           # epoch of perihelion passage (julian date)\n",
    "argperi = 90.0     # argument of perihelion (degrees)\n",
    "orbit_pars = np.array([ecc,inc,ome,tp,a,argperi,\n",
    "                       stellar_mass,params['rp'],params['d_obs']])\n",
    "orbit = Orbit(orbit_pars) \n",
    "alpha = 65.0*np.pi/180.0 # phase angle in radians\n",
    "pfunc = mu.avg_empirical # type of phase function to use\n",
    "simdata.change_alpha(orbit, params, alpha, pfunc) # updates params['sep'], params['phi'], params['wa']\n",
    "\n",
    "params.update(mu.cbe_spc_pars)"
   ]
  },
  {
   "cell_type": "markdown",
   "metadata": {
    "collapsed": true,
    "deletable": true,
    "editable": true
   },
   "source": [
    "Look at SNR as a function of time"
   ]
  },
  {
   "cell_type": "code",
   "execution_count": null,
   "metadata": {
    "collapsed": true,
    "deletable": true,
    "editable": true
   },
   "outputs": [],
   "source": []
  },
  {
   "cell_type": "markdown",
   "metadata": {
    "collapsed": true,
    "deletable": true,
    "editable": true
   },
   "source": [
    "Look at maximum possible SNR"
   ]
  },
  {
   "cell_type": "code",
   "execution_count": null,
   "metadata": {
    "collapsed": true,
    "deletable": true,
    "editable": true
   },
   "outputs": [],
   "source": []
  },
  {
   "cell_type": "markdown",
   "metadata": {},
   "source": [
    "Look at exposure times necessary to reach SNR = 5"
   ]
  },
  {
   "cell_type": "code",
   "execution_count": null,
   "metadata": {
    "collapsed": true
   },
   "outputs": [],
   "source": []
  },
  {
   "cell_type": "markdown",
   "metadata": {},
   "source": [
    "switch to imaging and do the same thing"
   ]
  },
  {
   "cell_type": "code",
   "execution_count": null,
   "metadata": {
    "collapsed": true
   },
   "outputs": [],
   "source": []
  },
  {
   "cell_type": "markdown",
   "metadata": {},
   "source": [
    "Now consider some known RV planets! "
   ]
  },
  {
   "cell_type": "code",
   "execution_count": null,
   "metadata": {
    "collapsed": true
   },
   "outputs": [],
   "source": []
  }
 ],
 "metadata": {
  "kernelspec": {
   "display_name": "Python 3",
   "language": "python",
   "name": "python3"
  },
  "language_info": {
   "codemirror_mode": {
    "name": "ipython",
    "version": 3
   },
   "file_extension": ".py",
   "mimetype": "text/x-python",
   "name": "python",
   "nbconvert_exporter": "python",
   "pygments_lexer": "ipython3",
   "version": "3.5.3"
  }
 },
 "nbformat": 4,
 "nbformat_minor": 2
}
